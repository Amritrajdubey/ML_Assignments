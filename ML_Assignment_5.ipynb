{
 "cells": [
  {
   "cell_type": "markdown",
   "id": "35f0a7b5",
   "metadata": {},
   "source": [
    "Q1. What are the key tasks that machine learning entails? What does data pre-processing imply?"
   ]
  },
  {
   "cell_type": "markdown",
   "id": "e874f0aa",
   "metadata": {},
   "source": [
    "We can use Machine learning in many aspects. To predict weather , sales , In AI , to collect insights of most affecting feature from the data,To automate process.\n",
    "Data pre- processing refers to processing of raw data which will be used further for another data processing."
   ]
  },
  {
   "cell_type": "markdown",
   "id": "e269444d",
   "metadata": {},
   "source": [
    "Q2. Describe quantitative and qualitative data in depth. Make a distinction between the two."
   ]
  },
  {
   "cell_type": "markdown",
   "id": "9f0110f3",
   "metadata": {},
   "source": [
    "In case of quantitative data we talk about numbers ex - Age, salary but in case of qualitative data we talk about category of data ex- Gender,Planets name vs Star name."
   ]
  },
  {
   "cell_type": "markdown",
   "id": "a12face5",
   "metadata": {},
   "source": [
    "Q3. Create a basic data collection that includes some sample records. Have at least one attribute from each of the machine learning data types."
   ]
  },
  {
   "cell_type": "code",
   "execution_count": null,
   "id": "109d5cca",
   "metadata": {},
   "outputs": [],
   "source": []
  },
  {
   "cell_type": "markdown",
   "id": "01b42f8c",
   "metadata": {},
   "source": [
    "Q4. What are the various causes of machine learning data issues? What are the ramifications?"
   ]
  },
  {
   "cell_type": "markdown",
   "id": "6d01c8f1",
   "metadata": {},
   "source": [
    "Following can  be few reason of ML data issue:\n",
    "    * Wrong sampling techinque used\n",
    "    * lack of qualaity data\n",
    "    * Implementation\n",
    "    * Lack of skilled resource\n",
    "    * Infrastructure problem"
   ]
  },
  {
   "cell_type": "markdown",
   "id": "4913df64",
   "metadata": {},
   "source": [
    "Q5. Demonstrate various approaches to categorical data exploration with appropriate examples."
   ]
  },
  {
   "cell_type": "markdown",
   "id": "ef32f5a5",
   "metadata": {},
   "source": [
    "When we will have categorical data we will use classification algo to solve the problems:\n",
    "    - Logistic regression\n",
    "    - SVM\n",
    "    - Decision tree classifier\n",
    "    - KNN\n",
    "\n",
    "We will convert the categorical data to numerical for fast mathematical calculations.Then we will perform EDA with comparision ( Bivariant, Heat map etc).Then we will train our model then on the trained and test data will apply classification algos."
   ]
  },
  {
   "cell_type": "markdown",
   "id": "40a46b24",
   "metadata": {},
   "source": [
    "Q6. How would the learning activity be affected if certain variables have missing values? Having said that, what can be done about it?"
   ]
  },
  {
   "cell_type": "markdown",
   "id": "f1d48b95",
   "metadata": {},
   "source": [
    "When % of missing values is more then it's tough to delete row as then we may loose crutial info, then option is to deal with it by replacing with mean,median or mode. Even then we are considering average values which may or may not lies with real data. So it affect our model precision."
   ]
  },
  {
   "cell_type": "markdown",
   "id": "487d1f73",
   "metadata": {},
   "source": [
    "Q7. Describe the various methods for dealing with missing data values in depth."
   ]
  },
  {
   "cell_type": "markdown",
   "id": "93aa11e6",
   "metadata": {},
   "source": [
    "Following are few method to deal with missing data:\n",
    "    - If nos of row are relativily very less we can delete the row.\n",
    "    - Replacing with mean,median or mode.\n",
    "    - Assigning new category method"
   ]
  },
  {
   "cell_type": "markdown",
   "id": "3eb63549",
   "metadata": {},
   "source": [
    "Q8. What are the various data pre-processing techniques? Explain dimensionality reduction and\n",
    "function selection in a few words."
   ]
  },
  {
   "cell_type": "markdown",
   "id": "5af9eb51",
   "metadata": {},
   "source": [
    "Following are data pre processing techniques:\n",
    "    - Data cleaning at first ( Missing value, Outliers,Scaling of data)\n",
    "    - Dimensional reduction ( PCA,LDA)\n",
    "    - Feature Engineering\n",
    "    - Sampling of data\n",
    "    - Data Transformation (Log,Box,Square,Cube)\n",
    "    - Imbalanced data handling\n",
    "    - Split/Merge/Drop \n",
    "   \n",
    " dimensionality reduction and function selection means selection of dependent features."
   ]
  },
  {
   "cell_type": "markdown",
   "id": "3d10c863",
   "metadata": {},
   "source": [
    "Q9.\n",
    "\n",
    "i. What is the IQR? What criteria are used to assess it?\n",
    "\n",
    "ii. Describe the various components of a box plot in detail? When will the lower whisker\n",
    "surpass the upper whisker in length? How can box plots be used to identify outliers?\n",
    "\n"
   ]
  },
  {
   "cell_type": "markdown",
   "id": "1bd29b4e",
   "metadata": {},
   "source": [
    "i. What is the IQR? What criteria are used to assess it? \n",
    "\n",
    "IQR stands for Inter Quartile Range it's used to reduce outlier from the data by defining lower and upper limit of the data and restricting value within it by replacing outlier with lower and upper limit values.\n",
    "\n",
    "ii. Describe the various components of a box plot in detail? When will the lower whisker surpass the upper whisker in length? How can box plots be used to identify outliers?\n",
    "\n",
    "Box plot has following components:\n",
    "- Median\n",
    "- Upper Quartile\n",
    "- Lower Quartile\n",
    "- Minimum\n",
    "- Maximum\n",
    "- Whisker\n",
    "Lower whisker will surpass upper whisker in length when diff b/w lower quartile and minimum is more than upper quartile and maximum. Box plot is used to identify Outliers because all values lying outside of minimum and maximum are outliers.\n"
   ]
  },
  {
   "cell_type": "markdown",
   "id": "cb8dba98",
   "metadata": {},
   "source": [
    "Q10. Make brief notes on any two of the following:\n",
    "\n",
    "1. Data collected at regular intervals\n",
    "\n",
    "2. The gap between the quartiles\n",
    "\n",
    "3. Use a cross-tab\n",
    "\n",
    "1. Make a comparison between:\n",
    "\n",
    "1. Data with nominal and ordinal values\n",
    "\n",
    "2. Histogram and box plot\n",
    "\n",
    "3. The average and mediancx"
   ]
  },
  {
   "cell_type": "markdown",
   "id": "ce12a62d",
   "metadata": {},
   "source": [
    "1.Data collected at regular intervals :\n",
    "    \n",
    "In it rather than random selecting sample data from population data we choose data after regular data. EX - Suppose we have to make a survey from people entering Railway station , rather than random selecting them let we decide to ask question from every 5th entering person. Then it's Data collected at regular intervals.\n",
    "    \n",
    "2.The gap between the quartiles:\n",
    "    Gap b/w first and third Quartile is gap b/w Quartile also called IQR (Inter Quartile Range).\n",
    "    IQR = (Q3)Third Quartile - (Q1)First Quartile\n",
    "    It is used to find lower and max limit which let us know about outliers in data"
   ]
  }
 ],
 "metadata": {
  "kernelspec": {
   "display_name": "Python 3 (ipykernel)",
   "language": "python",
   "name": "python3"
  },
  "language_info": {
   "codemirror_mode": {
    "name": "ipython",
    "version": 3
   },
   "file_extension": ".py",
   "mimetype": "text/x-python",
   "name": "python",
   "nbconvert_exporter": "python",
   "pygments_lexer": "ipython3",
   "version": "3.9.13"
  }
 },
 "nbformat": 4,
 "nbformat_minor": 5
}
