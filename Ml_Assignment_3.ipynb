{
 "cells": [
  {
   "cell_type": "markdown",
   "id": "2ef44b67",
   "metadata": {},
   "source": [
    "1.Explain the term machine learning, and how does it work? Explain two machine learning\n",
    "applications in the business world. What are some of the ethical concerns that machine learning\n",
    "applications could raise?"
   ]
  },
  {
   "cell_type": "markdown",
   "id": "164969dd",
   "metadata": {},
   "source": [
    "Ml is practice of algo to harness data , learn and predict accordingly.\n",
    "EX- Predicting salary of Employee , Predicting Weather forecast. \n",
    "Concern can be related to the output as more we will relly on it wrong output because of numbers of reason can lead to catastopic problems."
   ]
  },
  {
   "cell_type": "markdown",
   "id": "34708eea",
   "metadata": {},
   "source": [
    "2. Describe the process of human learning:\n",
    "\n",
    "i. Under the supervision of experts\n",
    "\n",
    "ii. With the assistance of experts in an indirect manner\n",
    "\n",
    "iii. Self-education"
   ]
  },
  {
   "cell_type": "markdown",
   "id": "9079be30",
   "metadata": {},
   "source": [
    "1) Under supervision of expert our brain learn from expert knowledge,there past experience and where ever we fail we try learnings of them or wherever stucks ask them for help.Ex - Our parent , Teachers.\n",
    "\n",
    "2) With assistent in indirect manner we learn from them when heard from others and whenever we are in trouble from which they led us out we contact our direct lead to contact further.Ex - Our parent friends.\n",
    "\n",
    "3) In case of self education we learn and predict assumptions based on our own knowledge and if stuck try to learn more of it on our own. Ex- Self study ( Books )."
   ]
  },
  {
   "cell_type": "markdown",
   "id": "db95e0a2",
   "metadata": {},
   "source": [
    "3. Provide a few examples of various types of machine learning."
   ]
  },
  {
   "cell_type": "markdown",
   "id": "f9d435fb",
   "metadata": {},
   "source": [
    "Example of various types of Ml:\n",
    "- Supervised learning : Predict Salary , Price.\n",
    "- Semi supervised learning : "
   ]
  },
  {
   "cell_type": "markdown",
   "id": "93df46fa",
   "metadata": {},
   "source": [
    "4. Examine the various forms of machine learning."
   ]
  },
  {
   "cell_type": "markdown",
   "id": "6b231917",
   "metadata": {},
   "source": [
    "Various forms of machine learning are supervised , semi supervised , un supervised and reinforcement learning."
   ]
  },
  {
   "cell_type": "markdown",
   "id": "11899401",
   "metadata": {},
   "source": [
    "5. Can you explain what a well-posed learning problem is? Explain the main characteristics that must be present to identify a learning problem properly."
   ]
  },
  {
   "cell_type": "markdown",
   "id": "3766e668",
   "metadata": {},
   "source": []
  },
  {
   "cell_type": "markdown",
   "id": "452eea37",
   "metadata": {},
   "source": [
    "6. Is machine learning capable of solving all problems? Give a detailed explanation of your answer."
   ]
  },
  {
   "cell_type": "markdown",
   "id": "5afd48ad",
   "metadata": {},
   "source": [
    "No Machine learning is not capable of solving all problems . It can predict trend if we the data provided to it is organised , not having lot of outliers and even data need to be sufficient."
   ]
  },
  {
   "cell_type": "markdown",
   "id": "ae46c9ee",
   "metadata": {},
   "source": [
    "7. What are the various methods and technologies for solving machine learning problems? Any two of them should be defined in detail."
   ]
  },
  {
   "cell_type": "markdown",
   "id": "68581e97",
   "metadata": {},
   "source": [
    "Various methods for solving ML problems are through Supervised learning methods, Unsupervised learning methods and Reinforcement learning methods.\n",
    "\n",
    "Supervised Learning - Let we have weather data of past and need to predict of future with change of wind , humidity , Temp etc . As the problem is of classification type we will use classification method to find out best fit model using Logistic regression, SVM , Decision tree classifier , Random forest classifier and will train our model accordingly.\n",
    "\n",
    "Reinforcement - Suppose we are travelling and someone is honking from back, either we can give him side or increase our speed then might be possible he might also increase but can't stop honking. So better to give him side and because of eleminating negative aspect we increase the strength of data, so it's case of negative reinforcement type."
   ]
  },
  {
   "cell_type": "markdown",
   "id": "e62b0c4f",
   "metadata": {},
   "source": [
    "8. Can you explain the various forms of supervised learning? Explain each one with an example application."
   ]
  },
  {
   "cell_type": "markdown",
   "id": "d4058f34",
   "metadata": {},
   "source": [
    "Two from of supervised learning are :\n",
    "- Classification \n",
    "- Regression \n",
    "\n",
    "Prediction of salary is continous value and will lies in regression problem."
   ]
  },
  {
   "cell_type": "markdown",
   "id": "cd0ce908",
   "metadata": {},
   "source": [
    "9. What is the difference between supervised and unsupervised learning? With a sample application in each region, explain the differences."
   ]
  },
  {
   "cell_type": "markdown",
   "id": "a33c1c34",
   "metadata": {},
   "source": [
    "In case of supervised learning output is known vs in case of unsupervised it's not known. In supervised we can analyse the input to predict output. \n",
    "\n",
    "Prediction of weather , salary, price lies inside supervised learning.Retail company survey is Unsupervised learning using cluster analysis."
   ]
  },
  {
   "cell_type": "markdown",
   "id": "6592cf4b",
   "metadata": {},
   "source": [
    "10. Describe the machine learning process in depth.\n",
    "\n",
    "a. Make brief notes on any two of the following:\n",
    "\n",
    "i. MATLAB is one of the most widely used programming languages.\n",
    "\n",
    "ii. Deep learning applications in healthcare\n",
    "\n",
    "iii. Study of the market basket\n",
    "\n",
    "iv. Linear regression (simple)"
   ]
  },
  {
   "cell_type": "markdown",
   "id": "fd05c305",
   "metadata": {},
   "source": [
    "ii. In healthcare with health status like heart dieseas, Stone, BP problems,obesity in patient, available data along with there sex,weight,height,present & past desease , health status. AFter training our model based on available data we can predict the forecast disease of person by there physic,health status that what disease they might have. To make people fit we can get insights from data of healthy peoples with least disease and accordingly suggest peoples to follow same to be healthy.\n",
    "\n",
    "iii. We can study of market trend , buying pattern on weekdays , weekend , seasons and according provide data for the availablity of product based on the past sales and people choice for there basket."
   ]
  },
  {
   "cell_type": "markdown",
   "id": "76377a32",
   "metadata": {},
   "source": [
    "11. Make a comparison between:-\n",
    "\n",
    "1. Generalization and abstraction\n",
    "\n",
    "2. Learning that is guided and unsupervised\n",
    "\n",
    "3. Regression and classification"
   ]
  },
  {
   "cell_type": "markdown",
   "id": "efc6158e",
   "metadata": {},
   "source": [
    "1. Generalization and abstraction :In generalization we can't restrict anyone from data access but in case of abstraction we ristrict user from accessing data we want to ristrict for.\n",
    "\n",
    "3. Regression and classification : When output is discrete or grouped in classes then we use classification algo . Ex- Gender prediction,Spam detection. When output is continous we use regression Algo. Ex- Predict price , salary. "
   ]
  },
  {
   "cell_type": "code",
   "execution_count": null,
   "id": "4a169a70",
   "metadata": {},
   "outputs": [],
   "source": []
  },
  {
   "cell_type": "code",
   "execution_count": null,
   "id": "bea9c73d",
   "metadata": {},
   "outputs": [],
   "source": []
  },
  {
   "cell_type": "code",
   "execution_count": null,
   "id": "cb213b7a",
   "metadata": {},
   "outputs": [],
   "source": []
  }
 ],
 "metadata": {
  "kernelspec": {
   "display_name": "Python 3 (ipykernel)",
   "language": "python",
   "name": "python3"
  },
  "language_info": {
   "codemirror_mode": {
    "name": "ipython",
    "version": 3
   },
   "file_extension": ".py",
   "mimetype": "text/x-python",
   "name": "python",
   "nbconvert_exporter": "python",
   "pygments_lexer": "ipython3",
   "version": "3.9.13"
  }
 },
 "nbformat": 4,
 "nbformat_minor": 5
}
