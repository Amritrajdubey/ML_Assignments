{
 "cells": [
  {
   "cell_type": "markdown",
   "id": "f58a49c0",
   "metadata": {},
   "source": [
    "Q1. In the sense of machine learning, what is a model? What is the best way to train a model?"
   ]
  },
  {
   "cell_type": "markdown",
   "id": "f63f32ea",
   "metadata": {},
   "source": [
    "In ML sense Model is output of ML ALgorithm designed to predict using data.\n",
    "\n",
    "Best way to train model is by following step:\n",
    "- Annalyze and find patterns in data\n",
    "- Use right Algorithm , train the model and find best fit prediction\n",
    "- Make prediction with algo giving max precision."
   ]
  },
  {
   "cell_type": "markdown",
   "id": "8e22ab08",
   "metadata": {},
   "source": [
    "Q2. In the sense of machine learning, explain the 'No Free Lunch' theorem."
   ]
  },
  {
   "cell_type": "markdown",
   "id": "856cc83e",
   "metadata": {},
   "source": [
    "According to No Free Lunch Therom there is no Universal Theorem which will work best with any data set because every dataset differ from each other in various aspect.SO it's we who need to stand the problem statement apply ML Algo and find best fit model."
   ]
  },
  {
   "cell_type": "markdown",
   "id": "c6fece51",
   "metadata": {},
   "source": [
    "3. Describe the K-fold cross-validation mechanism in detail."
   ]
  },
  {
   "cell_type": "markdown",
   "id": "55524944",
   "metadata": {},
   "source": [
    "It's the mechanism used to minimize disadvantage of hold out method.\n",
    "steps:\n",
    "- Pick no of K which must be less than length of dataset.\n",
    "- split the dataset into k equal parts.\n",
    "- choose k-1 fold for training set and rest for test set.\n",
    "- train the model on the training set and each time model is trained independently of the previous one.\n",
    "- validate the model on the test data.\n",
    "- Save the data for further comparision\n",
    "- Continue same process (5-6)k times with each time we use remaning fold as the test set.\n",
    "- At last we find average of all test which is the result."
   ]
  },
  {
   "cell_type": "markdown",
   "id": "d386903d",
   "metadata": {},
   "source": [
    "4. Describe the bootstrap sampling method. What is the aim of it?"
   ]
  },
  {
   "cell_type": "markdown",
   "id": "ebe4afbb",
   "metadata": {},
   "source": [
    "It's method that involves drawing data from population data every time to form new sample data with replacing few data each time to estimate population parameter.\n",
    "\n",
    "Ex- If we want to estimate age of whole University.We can take age of 1000 person and find average of it and can estimate for whole University. But when we use Bootstrap sampling method we can take sample size of 5 person and find average of it and then we will repeat same for 20 times and then calculate it's average."
   ]
  },
  {
   "cell_type": "markdown",
   "id": "8f1d391f",
   "metadata": {},
   "source": [
    "5. What is the significance of calculating the Kappa value for a classification model? Demonstrate how to measure the Kappa value of a classification model using a sample collection of results."
   ]
  },
  {
   "cell_type": "markdown",
   "id": "81e4c866",
   "metadata": {},
   "source": []
  },
  {
   "cell_type": "markdown",
   "id": "a625030e",
   "metadata": {},
   "source": [
    "6. Describe the model ensemble method. In machine learning, what part does it play?"
   ]
  },
  {
   "cell_type": "markdown",
   "id": "c4e216d8",
   "metadata": {},
   "source": [
    "As the name suggest ensemble means combining together. In ensembled techniques we combine multiple model together to increase the accuracy of the model. Ex- XG Boost "
   ]
  },
  {
   "cell_type": "markdown",
   "id": "fba6089b",
   "metadata": {},
   "source": [
    "7. What is a descriptive model's main purpose? Give examples of real-world problems that descriptive models were used to solve."
   ]
  },
  {
   "cell_type": "markdown",
   "id": "d1106896",
   "metadata": {},
   "source": [
    "Descriptive model let us know of the past.As ML works on data so better data we have better we can predict for future.Thus descriptive model let us know of past better and the past data we can harness for future.Ex - Year on Year sales /company growth."
   ]
  },
  {
   "cell_type": "markdown",
   "id": "1965db68",
   "metadata": {},
   "source": [
    "8. Describe how to evaluate a linear regression model."
   ]
  },
  {
   "cell_type": "markdown",
   "id": "a2674a35",
   "metadata": {},
   "source": [
    "First we need to tain our model by diving the model in training and test data. Then fitting the train data with linear model and making prediction according for test data .After prediction done we need to calculate the residuals then we can check for the accuracy.We can evaluate the linerar regression model by using R -squared or Adjusted R -sqaure to confirm the accuracy."
   ]
  },
  {
   "cell_type": "markdown",
   "id": "e5b2246d",
   "metadata": {},
   "source": [
    "9. Distinguish :\n",
    "\n",
    "1). Descriptive vs. predictive models\n",
    "\n",
    "2). Underfitting vs. overfitting the model\n",
    "\n",
    "3). Bootstrapping vs. cross-validation"
   ]
  },
  {
   "cell_type": "markdown",
   "id": "9a81ae81",
   "metadata": {},
   "source": [
    "1. Descriptive vs. predictive models:\n",
    "Descriptive model let's know what happened in the bussiness on basis of available data in past through means of report, figure , numbers. \n",
    "\n",
    "Predictive model is used to predict the future possible outcome based on past data.\n",
    "\n",
    "\n",
    "2. Underfitting vs. overfitting the model :\n",
    "Under fitting is the case in which trained model predict low accuracy thus highly biased with training data and when algo tested with test data provide high/Low accuracy means low/high variance.\n",
    "Over fitting is case in which the trained algo predict high accuracy when tested with trained data means low biased and when tested against test data with same trained model provide less accuracy means high variance.\n",
    "\n",
    "3. Bootstrapping vs. cross-validation:\n",
    "In case of Bootstrapping we are replacing sample data each time from population data which might repeat to predict population parameter.\n",
    "Cross validating is techniques to evaluate ML model by training various ML models on the subset of available input data and then evaluating them on complementary subset of data."
   ]
  },
  {
   "cell_type": "markdown",
   "id": "93ed8456",
   "metadata": {},
   "source": [
    "10. Make quick notes on:\n",
    "\n",
    "1). LOOCV.\n",
    "\n",
    "2). F-measurement\n",
    "\n",
    "3). The width of the silhouette\n",
    "\n",
    "4). Receiver operating characteristic curve"
   ]
  },
  {
   "cell_type": "markdown",
   "id": "5017fe96",
   "metadata": {},
   "source": [
    "3). Width of silhouette id from -1 to +1 .when the value is near to +1 model is good and when the value is near to -1 it's bad."
   ]
  }
 ],
 "metadata": {
  "kernelspec": {
   "display_name": "Python 3 (ipykernel)",
   "language": "python",
   "name": "python3"
  },
  "language_info": {
   "codemirror_mode": {
    "name": "ipython",
    "version": 3
   },
   "file_extension": ".py",
   "mimetype": "text/x-python",
   "name": "python",
   "nbconvert_exporter": "python",
   "pygments_lexer": "ipython3",
   "version": "3.9.13"
  }
 },
 "nbformat": 4,
 "nbformat_minor": 5
}
