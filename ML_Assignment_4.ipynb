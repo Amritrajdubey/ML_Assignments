{
 "cells": [
  {
   "cell_type": "markdown",
   "id": "7ba8e7cb",
   "metadata": {},
   "source": [
    "Q1. What are the key tasks involved in getting ready to work with machine learning modeling?\n"
   ]
  },
  {
   "cell_type": "markdown",
   "id": "15ad6587",
   "metadata": {},
   "source": [
    "Key tasks to work with ML modeling:\n",
    "- Collection of data\n",
    "- Collecting insights of data ( EDA , FE )\n",
    "- Fetures selection\n",
    "- Training of data\n",
    "- Hyperparameter tuning\n",
    "- Model deployment"
   ]
  },
  {
   "cell_type": "markdown",
   "id": "dcddbaae",
   "metadata": {},
   "source": [
    "Q2. What are the different forms of data used in machine learning? Give a specific example for each of them."
   ]
  },
  {
   "cell_type": "markdown",
   "id": "cda21121",
   "metadata": {},
   "source": [
    "Different types of data used in ML:\n",
    "- Numerical data ( Age , Height , Weight )\n",
    "- Categorical data ( Sex , Season )\n",
    "- Time stamp data ( Date , time )\n",
    "- Text data ( Comments )"
   ]
  },
  {
   "cell_type": "markdown",
   "id": "d0147968",
   "metadata": {},
   "source": [
    "Q3. Distinguish:\n",
    "\n",
    "1.Numeric vs. categorical attributes\n",
    "\n",
    "2.Feature selection vs. dimensionality reduction"
   ]
  },
  {
   "cell_type": "markdown",
   "id": "e8703444",
   "metadata": {},
   "source": [
    "1. Numeric vs. categorical attributes : When values is in form of number either it's descrete values or it's continous value it's Numerical attributes . When data is in form of Category which can be grouped based on there similarity like sex , weather season they are categorical Attributes.\n",
    "\n",
    "2. Feature selection vs. dimensionality reduction . When we select useful features out of many features used for futher process in our model it's feature selection vs if there are large nos of features present and we are decresing nos of features to decrease it's dimensionality without affecting the model it's dimensionality reduction."
   ]
  },
  {
   "cell_type": "markdown",
   "id": "b4d52344",
   "metadata": {},
   "source": [
    "Q4. Make quick notes on any two of the following:\n",
    "\n",
    "1.The histogram\n",
    "\n",
    "2.Use a scatter plot\n",
    "\n",
    "3.PCA (Personal Computer Aid)"
   ]
  },
  {
   "cell_type": "markdown",
   "id": "f2921753",
   "metadata": {},
   "source": [
    "1. The histogram : Histogram is counting of data within a specified interval means area is propotional to frequency of variable.\n",
    "\n",
    "2. Use a scatter plot: It's data points drawn w.r.t to two comparing variables."
   ]
  },
  {
   "cell_type": "markdown",
   "id": "6873e3aa",
   "metadata": {},
   "source": [
    "Q5. Why is it necessary to investigate data? Is there a discrepancy in how qualitative and quantitative data are explored?"
   ]
  },
  {
   "cell_type": "markdown",
   "id": "6b0cb2d6",
   "metadata": {},
   "source": [
    "It's very important to investigate data to let know either data is usefull in proving insights or not because more relvant data will be better will we make prediction. "
   ]
  },
  {
   "cell_type": "markdown",
   "id": "72f0f88d",
   "metadata": {},
   "source": [
    "Q6. What are the various histogram shapes? What exactly are ‘bins'?"
   ]
  },
  {
   "cell_type": "markdown",
   "id": "5a4bd988",
   "metadata": {},
   "source": [
    "Various histogram shapes are:\n",
    "    Bimodal Histogram\n",
    "    Uniform Histogram\n",
    "    Symmetric Histogram\n",
    "    Probability Histogram\n",
    "    \n",
    "Bins are the interval size to count frequency within specific interval."
   ]
  },
  {
   "cell_type": "markdown",
   "id": "0725c4a6",
   "metadata": {},
   "source": [
    "Q7. How do we deal with data outliers?"
   ]
  },
  {
   "cell_type": "markdown",
   "id": "e239cd6b",
   "metadata": {},
   "source": [
    "Following are way to deal with outliers:\n",
    "    Setting up filter in dataset\n",
    "    Removing the outliers\n",
    "    Using IQR method \n",
    "    Replacing outlier with outliers mean"
   ]
  },
  {
   "cell_type": "markdown",
   "id": "e8f89a15",
   "metadata": {},
   "source": [
    "Q8. What are the various central inclination measures? Why does mean vary too much from median in certain data sets?"
   ]
  },
  {
   "cell_type": "markdown",
   "id": "153b0b10",
   "metadata": {},
   "source": [
    "Central inclination measures are :\n",
    "    Mean\n",
    "    Median\n",
    "    Mode\n",
    "    \n",
    "Mean varry too much from Median because we are taking average of data in mean but in case of median we are just picking us the central most element.Ex - X = [1,2,3,4,30,40,50] , Mean =18.5  , Median =4 "
   ]
  },
  {
   "cell_type": "markdown",
   "id": "1917b739",
   "metadata": {},
   "source": [
    "Q9. Describe how a scatter plot can be used to investigate bivariate relationships. Is it possible to find outliers using a scatter plot?"
   ]
  },
  {
   "cell_type": "markdown",
   "id": "a10ee8ff",
   "metadata": {},
   "source": [
    "As scatter plot display realtion b/w datapoint when one changes w.r.t to other, thus it talk of relation b/w two variables so it's bivariant.It's can't let us know of outliers because it won't talk about individual variable however if regression line is present we can identify the outlier."
   ]
  },
  {
   "cell_type": "markdown",
   "id": "eb3572c7",
   "metadata": {},
   "source": [
    "Q10. Describe how cross-tabs can be used to figure out how two variables are related."
   ]
  },
  {
   "cell_type": "markdown",
   "id": "99bfff3b",
   "metadata": {},
   "source": [
    "Because one variable is considered in row and other in column and relation b/w there changes is determined as in heat map."
   ]
  }
 ],
 "metadata": {
  "kernelspec": {
   "display_name": "Python 3 (ipykernel)",
   "language": "python",
   "name": "python3"
  },
  "language_info": {
   "codemirror_mode": {
    "name": "ipython",
    "version": 3
   },
   "file_extension": ".py",
   "mimetype": "text/x-python",
   "name": "python",
   "nbconvert_exporter": "python",
   "pygments_lexer": "ipython3",
   "version": "3.9.13"
  }
 },
 "nbformat": 4,
 "nbformat_minor": 5
}
